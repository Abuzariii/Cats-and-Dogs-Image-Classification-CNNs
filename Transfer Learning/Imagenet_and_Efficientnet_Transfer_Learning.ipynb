{
  "nbformat": 4,
  "nbformat_minor": 0,
  "metadata": {
    "colab": {
      "name": "Imagenet_and_Efficientnet_Transfer_Learning.ipynb",
      "provenance": [],
      "collapsed_sections": []
    },
    "kernelspec": {
      "name": "python3",
      "display_name": "Python 3"
    },
    "language_info": {
      "name": "python"
    },
    "accelerator": "GPU"
  },
  "cells": [
    {
      "cell_type": "markdown",
      "source": [
        "In this notebook I will try to harness the power of trasnfer learning and see how well does it perform on cats and dogs dataset."
      ],
      "metadata": {
        "id": "wBoO858Ltu_N"
      }
    },
    {
      "cell_type": "code",
      "execution_count": 1,
      "metadata": {
        "colab": {
          "base_uri": "https://localhost:8080/"
        },
        "id": "VOKHxpZhBW0Y",
        "outputId": "2a0b71da-36e1-4383-bf35-27bcbd01ae9e"
      },
      "outputs": [
        {
          "output_type": "stream",
          "name": "stdout",
          "text": [
            "GPU 0: Tesla T4 (UUID: GPU-10f67796-fee7-928e-5d30-81964ce027d0)\n"
          ]
        }
      ],
      "source": [
        "!nvidia-smi -L"
      ]
    },
    {
      "cell_type": "markdown",
      "source": [
        "# Importing and Preprocessing data"
      ],
      "metadata": {
        "id": "TNOPItI4t99M"
      }
    },
    {
      "cell_type": "code",
      "source": [
        "from google.colab import drive\n",
        "drive.mount('/content/gdrive')"
      ],
      "metadata": {
        "colab": {
          "base_uri": "https://localhost:8080/"
        },
        "id": "PxDL7X-dBghB",
        "outputId": "b62d197b-8dd2-4231-ebbd-5bd97a6f251b"
      },
      "execution_count": 2,
      "outputs": [
        {
          "output_type": "stream",
          "name": "stdout",
          "text": [
            "Mounted at /content/gdrive\n"
          ]
        }
      ]
    },
    {
      "cell_type": "code",
      "source": [
        "# !unzip gdrive/MyDrive/archive.zip"
      ],
      "metadata": {
        "id": "yNxA6_dit558"
      },
      "execution_count": 52,
      "outputs": []
    },
    {
      "cell_type": "code",
      "source": [
        "# How many images in each folder?\n",
        "import os\n",
        "\n",
        "# Walk through 10 percent data directory and list number of files\n",
        "for dirpath, dirnames, filenames in os.walk(\"training_set\"):\n",
        "  print(f\"There are {len(dirnames)} directories and {len(filenames)} images in '{dirpath}'.\")"
      ],
      "metadata": {
        "colab": {
          "base_uri": "https://localhost:8080/"
        },
        "id": "KEiHaKUoB9EQ",
        "outputId": "59dafea5-8e26-4b50-d613-53581ee6063c"
      },
      "execution_count": 4,
      "outputs": [
        {
          "output_type": "stream",
          "name": "stdout",
          "text": [
            "There are 1 directories and 0 images in 'training_set'.\n",
            "There are 2 directories and 0 images in 'training_set/training_set'.\n",
            "There are 0 directories and 4001 images in 'training_set/training_set/cats'.\n",
            "There are 0 directories and 4006 images in 'training_set/training_set/dogs'.\n"
          ]
        }
      ]
    },
    {
      "cell_type": "code",
      "source": [
        "# How many images in each folder?\n",
        "import os\n",
        "\n",
        "# Walk through 10 percent data directory and list number of files\n",
        "for dirpath, dirnames, filenames in os.walk(\"test_set\"):\n",
        "  print(f\"There are {len(dirnames)} directories and {len(filenames)} images in '{dirpath}'.\")"
      ],
      "metadata": {
        "colab": {
          "base_uri": "https://localhost:8080/"
        },
        "id": "IGYGgxsZCDyr",
        "outputId": "562daf2a-1ece-4d40-e6af-a7fc0c5c29b6"
      },
      "execution_count": 5,
      "outputs": [
        {
          "output_type": "stream",
          "name": "stdout",
          "text": [
            "There are 1 directories and 0 images in 'test_set'.\n",
            "There are 2 directories and 0 images in 'test_set/test_set'.\n",
            "There are 0 directories and 1012 images in 'test_set/test_set/cats'.\n",
            "There are 0 directories and 1013 images in 'test_set/test_set/dogs'.\n"
          ]
        }
      ]
    },
    {
      "cell_type": "code",
      "source": [
        "# Get the class names (programmatically, this is much more helpful with a longer list of classes)\n",
        "\n",
        "class_names = [ item for item in os.listdir('test_set/test_set') if os.path.isdir(os.path.join(\"test_set/test_set\", item)) ]\n",
        "print(class_names)"
      ],
      "metadata": {
        "colab": {
          "base_uri": "https://localhost:8080/"
        },
        "id": "QfoOZNNgCJaa",
        "outputId": "050ecb6a-0b6c-4fbd-8f34-fb4227b788f9"
      },
      "execution_count": 6,
      "outputs": [
        {
          "output_type": "stream",
          "name": "stdout",
          "text": [
            "['cats', 'dogs']\n"
          ]
        }
      ]
    },
    {
      "cell_type": "code",
      "source": [
        "import tensorflow as tf\n",
        "from tensorflow.keras.preprocessing.image import ImageDataGenerator\n",
        "\n",
        "# Data Normalization\n",
        "train_datagen = ImageDataGenerator(rescale=1./255)\n",
        "valid_datagen = ImageDataGenerator(rescale=1./255)\n",
        "\n",
        "# Setup the train and test directories\n",
        "train_dir = \"training_set/training_set/\"\n",
        "test_dir = \"test_set/test_set/\"\n",
        "\n",
        "# Import data from directories and turn it into batches\n",
        "train_data = train_datagen.flow_from_directory(train_dir,\n",
        "                                               batch_size=32, # number of images to process at a time \n",
        "                                               target_size=(224, 224), # convert all images to be 224 x 224\n",
        "                                               class_mode=\"binary\", # type of problem we're working on\n",
        "                                               seed=42)\n",
        "\n",
        "test_data = valid_datagen.flow_from_directory(test_dir,\n",
        "                                              batch_size=32,\n",
        "                                              target_size=(224, 224),\n",
        "                                              class_mode=\"binary\",\n",
        "                                              seed=42)"
      ],
      "metadata": {
        "colab": {
          "base_uri": "https://localhost:8080/"
        },
        "id": "5CWgIO2zCOEG",
        "outputId": "aebf0730-431c-41ec-a852-9dbcd0525438"
      },
      "execution_count": 7,
      "outputs": [
        {
          "output_type": "stream",
          "name": "stdout",
          "text": [
            "Found 8005 images belonging to 2 classes.\n",
            "Found 2023 images belonging to 2 classes.\n"
          ]
        }
      ]
    },
    {
      "cell_type": "code",
      "source": [
        "# Create tensorboard callback (functionized because need to create a new one for each model)\n",
        "import datetime\n",
        "def create_tensorboard_callback(dir_name, experiment_name):\n",
        "  log_dir = dir_name + \"/\" + experiment_name + \"/\" + datetime.datetime.now().strftime(\"%Y%m%d-%H%M%S\")\n",
        "  tensorboard_callback = tf.keras.callbacks.TensorBoard(\n",
        "      log_dir=log_dir\n",
        "  )\n",
        "  print(f\"Saving TensorBoard log files to: {log_dir}\")\n",
        "  return tensorboard_callback"
      ],
      "metadata": {
        "id": "hexOA1xeCUji"
      },
      "execution_count": 8,
      "outputs": []
    },
    {
      "cell_type": "code",
      "source": [
        "import tensorflow as tf\n",
        "import tensorflow_hub as hub\n",
        "from tensorflow.keras import layers"
      ],
      "metadata": {
        "id": "jI4iA1viCbzo"
      },
      "execution_count": 9,
      "outputs": []
    },
    {
      "cell_type": "markdown",
      "source": [
        "# Model URLs"
      ],
      "metadata": {
        "id": "LbId8lIOuCzN"
      }
    },
    {
      "cell_type": "markdown",
      "source": [
        "These URLs are taken from [Tensorflow Hub](https://tfhub.dev/) which has thousands of pretrained models which have performed quite well on datasets far larger than ours.\n",
        "\n",
        "You can filter out the search results for your own domain and pick the model that fits your data set.\n",
        "\n",
        "I have picked Resnet version 1 and Efficientnet version 2 as both these models are trained on images of size (224, 224) which is the size in which we preprocessed our images so these models are expected to perform good on our dataset. Let's see....."
      ],
      "metadata": {
        "id": "EPLVFt_4uJXa"
      }
    },
    {
      "cell_type": "code",
      "source": [
        "# Resnet 50 V2 feature vector\n",
        "resnet_url = \"https://tfhub.dev/google/imagenet/resnet_v1_50/classification/5\"\n",
        "\n",
        "# Original: EfficientNetB0 feature vector (version 1)\n",
        "efficientnet_url = \"https://tfhub.dev/google/imagenet/efficientnet_v2_imagenet1k_b0/feature_vector/2\""
      ],
      "metadata": {
        "id": "qNsCM8WPCguS"
      },
      "execution_count": 10,
      "outputs": []
    },
    {
      "cell_type": "code",
      "source": [
        "IMAGE_SHAPE = (224, 224)\n",
        "BATCH_SIZE = 32\n",
        "\n",
        "def create_model(model_url):\n",
        "  # Download the pretrained model and save it as a Keras layer\n",
        "  feature_extractor_layer = hub.KerasLayer(model_url,\n",
        "                                           trainable=False, # freeze the underlying patterns\n",
        "                                           name='feature_extraction_layer',\n",
        "                                           input_shape=IMAGE_SHAPE+(3,)) # define the input image shape\n",
        "  \n",
        "  # Create our own model\n",
        "  model = tf.keras.Sequential([\n",
        "    feature_extractor_layer, # use the feature extraction layer as the base\n",
        "    layers.Dense(1, activation='sigmoid', name='output_layer') # create our own output layer      \n",
        "  ])\n",
        "\n",
        "  return model"
      ],
      "metadata": {
        "id": "rSmWa3aiDRMn"
      },
      "execution_count": 11,
      "outputs": []
    },
    {
      "cell_type": "markdown",
      "source": [
        "# Resnet Model"
      ],
      "metadata": {
        "id": "3jfHc9ZcvBmq"
      }
    },
    {
      "cell_type": "code",
      "source": [
        "# Create model\n",
        "resnet_model = create_model(resnet_url)\n",
        "\n",
        "# Compile\n",
        "resnet_model.compile(loss='binary_crossentropy',\n",
        "                     optimizer=tf.keras.optimizers.Adam(),\n",
        "                     metrics=['accuracy'])"
      ],
      "metadata": {
        "id": "xNFfUP3hDjOP"
      },
      "execution_count": 12,
      "outputs": []
    },
    {
      "cell_type": "code",
      "source": [
        "# Fit the model\n",
        "resnet_history = resnet_model.fit(train_data,\n",
        "                                  epochs=5,\n",
        "                                  steps_per_epoch=len(train_data),\n",
        "                                  validation_data=test_data,\n",
        "                                  validation_steps=len(test_data),\n",
        "                                  # Add TensorBoard callback to model (callbacks parameter takes a list)\n",
        "                                  callbacks=[create_tensorboard_callback(dir_name=\"tensorflow_hub\", # save experiment logs here\n",
        "                                                                         experiment_name=\"resnet50V2\")]) # name of log files"
      ],
      "metadata": {
        "colab": {
          "base_uri": "https://localhost:8080/"
        },
        "id": "B2EiE8hTDj-y",
        "outputId": "d84e0320-a6cd-4ec4-9af9-6cce140222f5"
      },
      "execution_count": 13,
      "outputs": [
        {
          "output_type": "stream",
          "name": "stdout",
          "text": [
            "Saving TensorBoard log files to: tensorflow_hub/resnet50V2/20220610-164148\n",
            "Epoch 1/5\n",
            "251/251 [==============================] - 52s 149ms/step - loss: 0.1000 - accuracy: 0.9634 - val_loss: 0.0612 - val_accuracy: 0.9792\n",
            "Epoch 2/5\n",
            "251/251 [==============================] - 37s 147ms/step - loss: 0.0460 - accuracy: 0.9850 - val_loss: 0.0554 - val_accuracy: 0.9827\n",
            "Epoch 3/5\n",
            "251/251 [==============================] - 37s 149ms/step - loss: 0.0362 - accuracy: 0.9875 - val_loss: 0.0483 - val_accuracy: 0.9827\n",
            "Epoch 4/5\n",
            "251/251 [==============================] - 36s 144ms/step - loss: 0.0312 - accuracy: 0.9896 - val_loss: 0.0477 - val_accuracy: 0.9857\n",
            "Epoch 5/5\n",
            "251/251 [==============================] - 36s 144ms/step - loss: 0.0277 - accuracy: 0.9905 - val_loss: 0.0460 - val_accuracy: 0.9827\n"
          ]
        }
      ]
    },
    {
      "cell_type": "code",
      "source": [
        "score = resnet_model.evaluate(test_data, verbose=0)\n",
        "print('Validation loss:', score[0])\n",
        "print('Validation accuracy:', score[1])"
      ],
      "metadata": {
        "colab": {
          "base_uri": "https://localhost:8080/"
        },
        "id": "OPoYYUCiDpqU",
        "outputId": "bd9c1a30-1a80-40d4-af1f-915b70a63873"
      },
      "execution_count": 14,
      "outputs": [
        {
          "output_type": "stream",
          "name": "stdout",
          "text": [
            "Validation loss: 0.046003613620996475\n",
            "Validation accuracy: 0.9826989769935608\n"
          ]
        }
      ]
    },
    {
      "cell_type": "code",
      "source": [
        "# If you wanted to, you could really turn this into a helper function to load in with a helper.py script...\n",
        "import matplotlib.pyplot as plt\n",
        "\n",
        "# Plot the validation and training data separately\n",
        "def plot_loss_curves(history):\n",
        "  \"\"\"\n",
        "  Returns separate loss curves for training and validation metrics.\n",
        "  \"\"\" \n",
        "  loss = history.history['loss']\n",
        "  val_loss = history.history['val_loss']\n",
        "\n",
        "  accuracy = history.history['accuracy']\n",
        "  val_accuracy = history.history['val_accuracy']\n",
        "\n",
        "  epochs = range(len(history.history['loss']))\n",
        "\n",
        "  # Plot loss\n",
        "  plt.plot(epochs, loss, label='training_loss')\n",
        "  plt.plot(epochs, val_loss, label='val_loss')\n",
        "  plt.title('Loss')\n",
        "  plt.xlabel('Epochs')\n",
        "  plt.legend()\n",
        "\n",
        "  # Plot accuracy\n",
        "  plt.figure()\n",
        "  plt.plot(epochs, accuracy, label='training_accuracy')\n",
        "  plt.plot(epochs, val_accuracy, label='val_accuracy')\n",
        "  plt.title('Accuracy')\n",
        "  plt.xlabel('Epochs')\n",
        "  plt.legend();"
      ],
      "metadata": {
        "id": "2r9ghq7JHLqK"
      },
      "execution_count": 15,
      "outputs": []
    },
    {
      "cell_type": "code",
      "source": [
        "plot_loss_curves(resnet_history)"
      ],
      "metadata": {
        "colab": {
          "base_uri": "https://localhost:8080/",
          "height": 573
        },
        "id": "pka4DOaHKCCE",
        "outputId": "2d0091b3-8184-4762-fdfb-371294338a0e"
      },
      "execution_count": 16,
      "outputs": [
        {
          "output_type": "display_data",
          "data": {
            "text/plain": [
              "<Figure size 432x288 with 1 Axes>"
            ],
            "image/png": "[encoded data removed]"
          },
          "metadata": {
            "needs_background": "light"
          }
        },
        {
          "output_type": "display_data",
          "data": {
            "text/plain": [
              "<Figure size 432x288 with 1 Axes>"
            ],
            "image/png": "[encoded data removed]"
          },
          "metadata": {
            "needs_background": "light"
          }
        }
      ]
    },
    {
      "cell_type": "markdown",
      "source": [
        "# Efficientnet Model"
      ],
      "metadata": {
        "id": "mrxOYe8TKHya"
      }
    },
    {
      "cell_type": "code",
      "source": [
        "# Create model\n",
        "efficientnet_model = create_model(model_url=efficientnet_url)\n",
        "\n",
        "# Compile EfficientNet model\n",
        "efficientnet_model.compile(loss='binary_crossentropy',\n",
        "                           optimizer=tf.keras.optimizers.Adam(),\n",
        "                           metrics=['accuracy'])\n",
        "\n",
        "# Fit EfficientNet model \n",
        "efficientnet_history = efficientnet_model.fit(train_data, # only use 10% of training data\n",
        "                                              epochs=5, # train for 5 epochs\n",
        "                                              steps_per_epoch=len(train_data),\n",
        "                                              validation_data=test_data,\n",
        "                                              validation_steps=len(test_data),\n",
        "                                              callbacks=[create_tensorboard_callback(dir_name=\"tensorflow_hub\", \n",
        "                                                                                     # Track logs under different experiment name\n",
        "                                                                                     experiment_name=\"efficientnetB0\")])"
      ],
      "metadata": {
        "colab": {
          "base_uri": "https://localhost:8080/"
        },
        "id": "WNIhCVKxKDh3",
        "outputId": "b404053c-27a2-4ca5-9216-5c830e92fbbd"
      },
      "execution_count": 17,
      "outputs": [
        {
          "output_type": "stream",
          "name": "stdout",
          "text": [
            "Saving TensorBoard log files to: tensorflow_hub/efficientnetB0/20220610-164520\n",
            "Epoch 1/5\n",
            "251/251 [==============================] - 43s 144ms/step - loss: 0.1275 - accuracy: 0.9655 - val_loss: 0.0604 - val_accuracy: 0.9827\n",
            "Epoch 2/5\n",
            "251/251 [==============================] - 34s 135ms/step - loss: 0.0510 - accuracy: 0.9829 - val_loss: 0.0466 - val_accuracy: 0.9847\n",
            "Epoch 3/5\n",
            "251/251 [==============================] - 34s 134ms/step - loss: 0.0408 - accuracy: 0.9863 - val_loss: 0.0420 - val_accuracy: 0.9867\n",
            "Epoch 4/5\n",
            "251/251 [==============================] - 34s 134ms/step - loss: 0.0355 - accuracy: 0.9878 - val_loss: 0.0402 - val_accuracy: 0.9867\n",
            "Epoch 5/5\n",
            "251/251 [==============================] - 33s 133ms/step - loss: 0.0317 - accuracy: 0.9894 - val_loss: 0.0410 - val_accuracy: 0.9871\n"
          ]
        }
      ]
    },
    {
      "cell_type": "code",
      "source": [
        "efficientnet_score = resnet_model.evaluate(test_data, verbose=0)\n",
        "print('Validation loss:', efficientnet_score[0])\n",
        "print('Validation accuracy:', efficientnet_score[1])"
      ],
      "metadata": {
        "colab": {
          "base_uri": "https://localhost:8080/"
        },
        "id": "d55iJH_Qs7xN",
        "outputId": "2eb951fa-7d50-4752-a8d6-dbc6613ac332"
      },
      "execution_count": 49,
      "outputs": [
        {
          "output_type": "stream",
          "name": "stdout",
          "text": [
            "Validation loss: 0.046003617346286774\n",
            "Validation accuracy: 0.9826989769935608\n"
          ]
        }
      ]
    },
    {
      "cell_type": "code",
      "source": [
        "plot_loss_curves(efficientnet_history)"
      ],
      "metadata": {
        "colab": {
          "base_uri": "https://localhost:8080/",
          "height": 573
        },
        "id": "usNpukDlp9JX",
        "outputId": "730dfa99-a847-4f9b-eb76-5657d1451264"
      },
      "execution_count": 42,
      "outputs": [
        {
          "output_type": "display_data",
          "data": {
            "text/plain": [
              "<Figure size 432x288 with 1 Axes>"
            ],
            "image/png": "[encoded data removed]"
          },
          "metadata": {
            "needs_background": "light"
          }
        },
        {
          "output_type": "display_data",
          "data": {
            "text/plain": [
              "<Figure size 432x288 with 1 Axes>"
            ],
            "image/png": "[encoded data removed]"
          },
          "metadata": {
            "needs_background": "light"
          }
        }
      ]
    },
    {
      "cell_type": "markdown",
      "source": [
        "# Mobilenet model\n",
        "\n",
        "Above two models performed almost perfectly, but there are other models as well who are known to perform amazingly on image dataset.\n",
        "\n",
        "Here i chose a random version of mobilenet model from tensorflow hub, checked whether its input size is compatible and then tried it on our dataset."
      ],
      "metadata": {
        "id": "-E99f7h1vGhi"
      }
    },
    {
      "cell_type": "code",
      "source": [
        "mobilenet_url = \"https://tfhub.dev/google/tf2-preview/mobilenet_v2/feature_vector/4\""
      ],
      "metadata": {
        "id": "_0UGBxjYp-9-"
      },
      "execution_count": 46,
      "outputs": []
    },
    {
      "cell_type": "code",
      "source": [
        "# Create model\n",
        "mobilenet_model = create_model(model_url=mobilenet_url)\n",
        "\n",
        "# Compile EfficientNet model\n",
        "mobilenet_model.compile(loss='binary_crossentropy',\n",
        "                           optimizer=tf.keras.optimizers.Adam(),\n",
        "                           metrics=['accuracy'])\n",
        "\n",
        "# Fit EfficientNet model \n",
        "mobilenet_history = mobilenet_model.fit(train_data, # only use 10% of training data\n",
        "                                              epochs=5, # train for 5 epochs\n",
        "                                              steps_per_epoch=len(train_data),\n",
        "                                              validation_data=test_data,\n",
        "                                              validation_steps=len(test_data),\n",
        "                                              callbacks=[create_tensorboard_callback(dir_name=\"tensorflow_hub\", \n",
        "                                                                                     # Track logs under different experiment name\n",
        "                                                                                     experiment_name=\"mobilenet\")])"
      ],
      "metadata": {
        "colab": {
          "base_uri": "https://localhost:8080/"
        },
        "id": "gbundVttrmT9",
        "outputId": "b09f9604-b3ae-49b9-d751-0e5b27f81c83"
      },
      "execution_count": 48,
      "outputs": [
        {
          "output_type": "stream",
          "name": "stdout",
          "text": [
            "Saving TensorBoard log files to: tensorflow_hub/mobilenet/20220610-173749\n",
            "Epoch 1/5\n",
            "251/251 [==============================] - 39s 141ms/step - loss: 0.1074 - accuracy: 0.9644 - val_loss: 0.0440 - val_accuracy: 0.9896\n",
            "Epoch 2/5\n",
            "251/251 [==============================] - 35s 140ms/step - loss: 0.0438 - accuracy: 0.9841 - val_loss: 0.0342 - val_accuracy: 0.9911\n",
            "Epoch 3/5\n",
            "251/251 [==============================] - 34s 137ms/step - loss: 0.0361 - accuracy: 0.9883 - val_loss: 0.0355 - val_accuracy: 0.9891\n",
            "Epoch 4/5\n",
            "251/251 [==============================] - 34s 134ms/step - loss: 0.0319 - accuracy: 0.9900 - val_loss: 0.0335 - val_accuracy: 0.9891\n",
            "Epoch 5/5\n",
            "251/251 [==============================] - 38s 153ms/step - loss: 0.0278 - accuracy: 0.9914 - val_loss: 0.0292 - val_accuracy: 0.9926\n"
          ]
        }
      ]
    },
    {
      "cell_type": "code",
      "source": [
        "mobilenet_score = mobilenet_model.evaluate(test_data, verbose=0)\n",
        "print('Validation loss:', mobilenet_score[0])\n",
        "print('Validation accuracy:', mobilenet_score[1])"
      ],
      "metadata": {
        "colab": {
          "base_uri": "https://localhost:8080/"
        },
        "id": "5O_7Xfpdrwlz",
        "outputId": "67fbc737-7ed8-4936-ad43-cd43b1fcacca"
      },
      "execution_count": 50,
      "outputs": [
        {
          "output_type": "stream",
          "name": "stdout",
          "text": [
            "Validation loss: 0.029206395149230957\n",
            "Validation accuracy: 0.9925852417945862\n"
          ]
        }
      ]
    },
    {
      "cell_type": "code",
      "source": [
        "plot_loss_curves(mobilenet_history)"
      ],
      "metadata": {
        "colab": {
          "base_uri": "https://localhost:8080/",
          "height": 573
        },
        "id": "whrAakRgtbsO",
        "outputId": "6ebf8eec-ddad-4c26-9b75-8523f4c93b65"
      },
      "execution_count": 51,
      "outputs": [
        {
          "output_type": "display_data",
          "data": {
            "text/plain": [
              "<Figure size 432x288 with 1 Axes>"
            ],
            "image/png": "[encoded data removed]"
          },
          "metadata": {
            "needs_background": "light"
          }
        },
        {
          "output_type": "display_data",
          "data": {
            "text/plain": [
              "<Figure size 432x288 with 1 Axes>"
            ],
            "image/png": "[encoded data removed]"
          },
          "metadata": {
            "needs_background": "light"
          }
        }
      ]
    },
    {
      "cell_type": "markdown",
      "source": [
        "Its evident that pretrained models are far far better than the ones we created ourselvs and this is the power of transfer learning."
      ],
      "metadata": {
        "id": "Kk-EGz7yvlRE"
      }
    }
  ]
}